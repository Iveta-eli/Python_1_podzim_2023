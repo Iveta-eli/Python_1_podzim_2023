{
 "cells": [
  {
   "cell_type": "code",
   "execution_count": 22,
   "metadata": {},
   "outputs": [
    {
     "data": {
      "text/html": [
       "<div>\n",
       "<style scoped>\n",
       "    .dataframe tbody tr th:only-of-type {\n",
       "        vertical-align: middle;\n",
       "    }\n",
       "\n",
       "    .dataframe tbody tr th {\n",
       "        vertical-align: top;\n",
       "    }\n",
       "\n",
       "    .dataframe thead th {\n",
       "        text-align: right;\n",
       "    }\n",
       "</style>\n",
       "<table border=\"1\" class=\"dataframe\">\n",
       "  <thead>\n",
       "    <tr style=\"text-align: right;\">\n",
       "      <th></th>\n",
       "      <th>id;nazev_cz;nazev_en;trida_cz;cena;k_prohlidce</th>\n",
       "    </tr>\n",
       "  </thead>\n",
       "  <tbody>\n",
       "    <tr>\n",
       "      <th>0</th>\n",
       "      <td>7;\"Šváb syčivý\";\"Madagascar giant cockroach \";...</td>\n",
       "    </tr>\n",
       "    <tr>\n",
       "      <th>1</th>\n",
       "      <td>8;\"Pakobylka okřídlená\";\"Pink-winged stick ins...</td>\n",
       "    </tr>\n",
       "    <tr>\n",
       "      <th>2</th>\n",
       "      <td>16;\"Tayra\";\"Tayra\";\"Savci\";5000;1</td>\n",
       "    </tr>\n",
       "    <tr>\n",
       "      <th>3</th>\n",
       "      <td>35;\"Kajmanka supí\";\"Alligator snapping turtle\"...</td>\n",
       "    </tr>\n",
       "    <tr>\n",
       "      <th>4</th>\n",
       "      <td>37;\"Želva žlutočelá\";\"Indochinese box turtle\";...</td>\n",
       "    </tr>\n",
       "    <tr>\n",
       "      <th>...</th>\n",
       "      <td>...</td>\n",
       "    </tr>\n",
       "    <tr>\n",
       "      <th>508</th>\n",
       "      <td>1417;\"Rosnice šalamounská\";\" \";\"Obojživelníci\"...</td>\n",
       "    </tr>\n",
       "    <tr>\n",
       "      <th>509</th>\n",
       "      <td>1418;\"Létavka obecná\";\" \";\"Obojživelníci\";1000;1</td>\n",
       "    </tr>\n",
       "    <tr>\n",
       "      <th>510</th>\n",
       "      <td>1419;\"Bažant paví\";\" \";\"Ptáci\";1000;1</td>\n",
       "    </tr>\n",
       "    <tr>\n",
       "      <th>511</th>\n",
       "      <td>1420;\"Sojkovec rezavouchý\";\" \";\"Ptáci\";1000;1</td>\n",
       "    </tr>\n",
       "    <tr>\n",
       "      <th>512</th>\n",
       "      <td>1421;\"Kachnice kaštanová\";\" \";\"Ptáci\";1000;1</td>\n",
       "    </tr>\n",
       "  </tbody>\n",
       "</table>\n",
       "<p>513 rows × 1 columns</p>\n",
       "</div>"
      ],
      "text/plain": [
       "        id;nazev_cz;nazev_en;trida_cz;cena;k_prohlidce\n",
       "0    7;\"Šváb syčivý\";\"Madagascar giant cockroach \";...\n",
       "1    8;\"Pakobylka okřídlená\";\"Pink-winged stick ins...\n",
       "2                    16;\"Tayra\";\"Tayra\";\"Savci\";5000;1\n",
       "3    35;\"Kajmanka supí\";\"Alligator snapping turtle\"...\n",
       "4    37;\"Želva žlutočelá\";\"Indochinese box turtle\";...\n",
       "..                                                 ...\n",
       "508  1417;\"Rosnice šalamounská\";\" \";\"Obojživelníci\"...\n",
       "509   1418;\"Létavka obecná\";\" \";\"Obojživelníci\";1000;1\n",
       "510              1419;\"Bažant paví\";\" \";\"Ptáci\";1000;1\n",
       "511      1420;\"Sojkovec rezavouchý\";\" \";\"Ptáci\";1000;1\n",
       "512       1421;\"Kachnice kaštanová\";\" \";\"Ptáci\";1000;1\n",
       "\n",
       "[513 rows x 1 columns]"
      ]
     },
     "execution_count": 22,
     "metadata": {},
     "output_type": "execute_result"
    }
   ],
   "source": [
    "import pandas\n",
    "dataset = pandas.read_csv('dataset.csv')\n",
    "dataset"
   ]
  },
  {
   "cell_type": "code",
   "execution_count": 39,
   "metadata": {},
   "outputs": [
    {
     "ename": "TypeError",
     "evalue": "'builtin_function_or_method' object is not subscriptable",
     "output_type": "error",
     "traceback": [
      "\u001b[1;31m---------------------------------------------------------------------------\u001b[0m",
      "\u001b[1;31mTypeError\u001b[0m                                 Traceback (most recent call last)",
      "\u001b[1;32mc:\\Users\\elias\\Python1\\Python_1_podzim_2023\\Python1_23_ukol_8.ipynb Cell 2\u001b[0m line \u001b[0;36m1\n\u001b[1;32m----> <a href='vscode-notebook-cell:/c%3A/Users/elias/Python1/Python_1_podzim_2023/Python1_23_ukol_8.ipynb#W1sZmlsZQ%3D%3D?line=0'>1</a>\u001b[0m \u001b[39mprint\u001b[39;49m[\u001b[39m'\u001b[39;49m\u001b[39mdataset\u001b[39;49m\u001b[39m'\u001b[39;49m\u001b[39m.\u001b[39;49msplit(\u001b[39m'\u001b[39;49m\u001b[39m;\u001b[39;49m\u001b[39m'\u001b[39;49m)]\n\u001b[0;32m      <a href='vscode-notebook-cell:/c%3A/Users/elias/Python1/Python_1_podzim_2023/Python1_23_ukol_8.ipynb#W1sZmlsZQ%3D%3D?line=1'>2</a>\u001b[0m \u001b[39mprint\u001b[39m(\u001b[39m'\u001b[39m\u001b[39mid;nazev_cz;nazev_en;trida_cz;cena;k_prohlidce\u001b[39m\u001b[39m'\u001b[39m\u001b[39m.\u001b[39msplit(\u001b[39m'\u001b[39m\u001b[39m;\u001b[39m\u001b[39m'\u001b[39m))\n\u001b[0;32m      <a href='vscode-notebook-cell:/c%3A/Users/elias/Python1/Python_1_podzim_2023/Python1_23_ukol_8.ipynb#W1sZmlsZQ%3D%3D?line=2'>3</a>\u001b[0m \u001b[39mprint\u001b[39m(\u001b[39m'\u001b[39m\u001b[39mdataset\u001b[39m\u001b[39m'\u001b[39m\u001b[39m.\u001b[39msplit())\n",
      "\u001b[1;31mTypeError\u001b[0m: 'builtin_function_or_method' object is not subscriptable"
     ]
    }
   ],
   "source": [
    "print['dataset'.split(';')]\n",
    "print('id;nazev_cz;nazev_en;trida_cz;cena;k_prohlidce'.split(';'))\n",
    "print('dataset'.split())\n",
    "\n"
   ]
  },
  {
   "cell_type": "code",
   "execution_count": 24,
   "metadata": {},
   "outputs": [
    {
     "data": {
      "text/plain": [
       "(513, 1)"
      ]
     },
     "execution_count": 24,
     "metadata": {},
     "output_type": "execute_result"
    }
   ],
   "source": [
    "dataset.shape"
   ]
  },
  {
   "cell_type": "code",
   "execution_count": 25,
   "metadata": {},
   "outputs": [
    {
     "data": {
      "text/plain": [
       "Index(['id;nazev_cz;nazev_en;trida_cz;cena;k_prohlidce'], dtype='object')"
      ]
     },
     "execution_count": 25,
     "metadata": {},
     "output_type": "execute_result"
    }
   ],
   "source": [
    "dataset.columns"
   ]
  },
  {
   "cell_type": "code",
   "execution_count": 26,
   "metadata": {},
   "outputs": [
    {
     "data": {
      "text/plain": [
       "34    99;\"Ibis bílý\";\"White ibis\";\"Ptáci\";3000;1\n",
       "Name: id;nazev_cz;nazev_en;trida_cz;cena;k_prohlidce, dtype: object"
      ]
     },
     "execution_count": 26,
     "metadata": {},
     "output_type": "execute_result"
    }
   ],
   "source": [
    "dataset.iloc[[34], 0]"
   ]
  },
  {
   "cell_type": "code",
   "execution_count": 27,
   "metadata": {},
   "outputs": [
    {
     "ename": "TypeError",
     "evalue": "'DataFrame' object is not callable",
     "output_type": "error",
     "traceback": [
      "\u001b[1;31m---------------------------------------------------------------------------\u001b[0m",
      "\u001b[1;31mTypeError\u001b[0m                                 Traceback (most recent call last)",
      "\u001b[1;32mc:\\Users\\elias\\Python1\\Python_1_podzim_2023\\Python1_23_ukol_8.ipynb Cell 6\u001b[0m line \u001b[0;36m1\n\u001b[1;32m----> <a href='vscode-notebook-cell:/c%3A/Users/elias/Python1/Python_1_podzim_2023/Python1_23_ukol_8.ipynb#W5sZmlsZQ%3D%3D?line=0'>1</a>\u001b[0m dataset(\u001b[39m'\u001b[39;49m\u001b[39mcena\u001b[39;49m\u001b[39m'\u001b[39;49m)\n",
      "\u001b[1;31mTypeError\u001b[0m: 'DataFrame' object is not callable"
     ]
    }
   ],
   "source": [
    "dataset('cena')"
   ]
  },
  {
   "cell_type": "code",
   "execution_count": null,
   "metadata": {},
   "outputs": [
    {
     "data": {
      "text/plain": [
       "0      7;\"Šváb syčivý\";\"Madagascar giant cockroach \";...\n",
       "1      8;\"Pakobylka okřídlená\";\"Pink-winged stick ins...\n",
       "2                      16;\"Tayra\";\"Tayra\";\"Savci\";5000;1\n",
       "3      35;\"Kajmanka supí\";\"Alligator snapping turtle\"...\n",
       "4      37;\"Želva žlutočelá\";\"Indochinese box turtle\";...\n",
       "                             ...                        \n",
       "508    1417;\"Rosnice šalamounská\";\" \";\"Obojživelníci\"...\n",
       "509     1418;\"Létavka obecná\";\" \";\"Obojživelníci\";1000;1\n",
       "510                1419;\"Bažant paví\";\" \";\"Ptáci\";1000;1\n",
       "511        1420;\"Sojkovec rezavouchý\";\" \";\"Ptáci\";1000;1\n",
       "512         1421;\"Kachnice kaštanová\";\" \";\"Ptáci\";1000;1\n",
       "Name: id;nazev_cz;nazev_en;trida_cz;cena;k_prohlidce, Length: 513, dtype: object"
      ]
     },
     "execution_count": 138,
     "metadata": {},
     "output_type": "execute_result"
    }
   ],
   "source": [
    "dataset['id;nazev_cz;nazev_en;trida_cz;cena;k_prohlidce']"
   ]
  },
  {
   "cell_type": "code",
   "execution_count": 36,
   "metadata": {},
   "outputs": [
    {
     "name": "stdout",
     "output_type": "stream",
     "text": [
      "['id', 'nazev_cz', 'nazev_en', 'trida_cz', 'cena', 'k_prohlidce']\n"
     ]
    }
   ],
   "source": [
    "print('id;nazev_cz;nazev_en;trida_cz;cena;k_prohlidce'.split(';'))"
   ]
  }
 ],
 "metadata": {
  "kernelspec": {
   "display_name": "Python 3",
   "language": "python",
   "name": "python3"
  },
  "language_info": {
   "codemirror_mode": {
    "name": "ipython",
    "version": 3
   },
   "file_extension": ".py",
   "mimetype": "text/x-python",
   "name": "python",
   "nbconvert_exporter": "python",
   "pygments_lexer": "ipython3",
   "version": "3.11.4"
  }
 },
 "nbformat": 4,
 "nbformat_minor": 2
}
