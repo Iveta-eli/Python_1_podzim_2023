{
 "cells": [
  {
   "cell_type": "code",
   "execution_count": 1,
   "metadata": {},
   "outputs": [
    {
     "data": {
      "text/html": [
       "<div>\n",
       "<style scoped>\n",
       "    .dataframe tbody tr th:only-of-type {\n",
       "        vertical-align: middle;\n",
       "    }\n",
       "\n",
       "    .dataframe tbody tr th {\n",
       "        vertical-align: top;\n",
       "    }\n",
       "\n",
       "    .dataframe thead th {\n",
       "        text-align: right;\n",
       "    }\n",
       "</style>\n",
       "<table border=\"1\" class=\"dataframe\">\n",
       "  <thead>\n",
       "    <tr style=\"text-align: right;\">\n",
       "      <th></th>\n",
       "      <th>Region</th>\n",
       "      <th>Country</th>\n",
       "      <th>City</th>\n",
       "      <th>Day</th>\n",
       "      <th>AvgTemperature</th>\n",
       "    </tr>\n",
       "  </thead>\n",
       "  <tbody>\n",
       "    <tr>\n",
       "      <th>0</th>\n",
       "      <td>Africa</td>\n",
       "      <td>Algeria</td>\n",
       "      <td>Algiers</td>\n",
       "      <td>1</td>\n",
       "      <td>62.0</td>\n",
       "    </tr>\n",
       "    <tr>\n",
       "      <th>1</th>\n",
       "      <td>Africa</td>\n",
       "      <td>Algeria</td>\n",
       "      <td>Algiers</td>\n",
       "      <td>2</td>\n",
       "      <td>62.2</td>\n",
       "    </tr>\n",
       "    <tr>\n",
       "      <th>2</th>\n",
       "      <td>Africa</td>\n",
       "      <td>Algeria</td>\n",
       "      <td>Algiers</td>\n",
       "      <td>3</td>\n",
       "      <td>65.7</td>\n",
       "    </tr>\n",
       "    <tr>\n",
       "      <th>3</th>\n",
       "      <td>Africa</td>\n",
       "      <td>Algeria</td>\n",
       "      <td>Algiers</td>\n",
       "      <td>4</td>\n",
       "      <td>69.8</td>\n",
       "    </tr>\n",
       "    <tr>\n",
       "      <th>4</th>\n",
       "      <td>Africa</td>\n",
       "      <td>Algeria</td>\n",
       "      <td>Algiers</td>\n",
       "      <td>5</td>\n",
       "      <td>63.8</td>\n",
       "    </tr>\n",
       "    <tr>\n",
       "      <th>...</th>\n",
       "      <td>...</td>\n",
       "      <td>...</td>\n",
       "      <td>...</td>\n",
       "      <td>...</td>\n",
       "      <td>...</td>\n",
       "    </tr>\n",
       "    <tr>\n",
       "      <th>8785</th>\n",
       "      <td>North America</td>\n",
       "      <td>US</td>\n",
       "      <td>Cheyenne</td>\n",
       "      <td>26</td>\n",
       "      <td>51.7</td>\n",
       "    </tr>\n",
       "    <tr>\n",
       "      <th>8786</th>\n",
       "      <td>North America</td>\n",
       "      <td>US</td>\n",
       "      <td>Cheyenne</td>\n",
       "      <td>27</td>\n",
       "      <td>55.5</td>\n",
       "    </tr>\n",
       "    <tr>\n",
       "      <th>8787</th>\n",
       "      <td>North America</td>\n",
       "      <td>US</td>\n",
       "      <td>Cheyenne</td>\n",
       "      <td>28</td>\n",
       "      <td>38.5</td>\n",
       "    </tr>\n",
       "    <tr>\n",
       "      <th>8788</th>\n",
       "      <td>North America</td>\n",
       "      <td>US</td>\n",
       "      <td>Cheyenne</td>\n",
       "      <td>29</td>\n",
       "      <td>36.8</td>\n",
       "    </tr>\n",
       "    <tr>\n",
       "      <th>8789</th>\n",
       "      <td>North America</td>\n",
       "      <td>US</td>\n",
       "      <td>Cheyenne</td>\n",
       "      <td>30</td>\n",
       "      <td>36.9</td>\n",
       "    </tr>\n",
       "  </tbody>\n",
       "</table>\n",
       "<p>8790 rows × 5 columns</p>\n",
       "</div>"
      ],
      "text/plain": [
       "             Region  Country      City  Day  AvgTemperature\n",
       "0            Africa  Algeria   Algiers    1            62.0\n",
       "1            Africa  Algeria   Algiers    2            62.2\n",
       "2            Africa  Algeria   Algiers    3            65.7\n",
       "3            Africa  Algeria   Algiers    4            69.8\n",
       "4            Africa  Algeria   Algiers    5            63.8\n",
       "...             ...      ...       ...  ...             ...\n",
       "8785  North America       US  Cheyenne   26            51.7\n",
       "8786  North America       US  Cheyenne   27            55.5\n",
       "8787  North America       US  Cheyenne   28            38.5\n",
       "8788  North America       US  Cheyenne   29            36.8\n",
       "8789  North America       US  Cheyenne   30            36.9\n",
       "\n",
       "[8790 rows x 5 columns]"
      ]
     },
     "execution_count": 1,
     "metadata": {},
     "output_type": "execute_result"
    }
   ],
   "source": [
    "import pandas\n",
    "temperature = pandas.read_csv('temperature.csv')\n",
    "temperature"
   ]
  },
  {
   "cell_type": "code",
   "execution_count": 2,
   "metadata": {},
   "outputs": [
    {
     "name": "stdout",
     "output_type": "stream",
     "text": [
      "      Region         Country    City  Day  AvgTemperature\n",
      "2100  Europe  Czech Republic  Prague    1            43.5\n",
      "2101  Europe  Czech Republic  Prague    2            48.5\n",
      "2102  Europe  Czech Republic  Prague    3            44.4\n",
      "2103  Europe  Czech Republic  Prague    4            39.7\n",
      "2104  Europe  Czech Republic  Prague    5            40.6\n",
      "2105  Europe  Czech Republic  Prague    6            42.3\n",
      "2106  Europe  Czech Republic  Prague    7            43.5\n",
      "2107  Europe  Czech Republic  Prague    8            41.4\n",
      "2108  Europe  Czech Republic  Prague    9            43.8\n",
      "2109  Europe  Czech Republic  Prague   10            43.0\n",
      "2110  Europe  Czech Republic  Prague   11            39.5\n",
      "2111  Europe  Czech Republic  Prague   12            36.7\n",
      "2112  Europe  Czech Republic  Prague   13            35.8\n",
      "2113  Europe  Czech Republic  Prague   14            35.5\n",
      "2114  Europe  Czech Republic  Prague   15            39.1\n",
      "2115  Europe  Czech Republic  Prague   16            38.5\n",
      "2116  Europe  Czech Republic  Prague   17            36.6\n",
      "2117  Europe  Czech Republic  Prague   18            37.0\n",
      "2118  Europe  Czech Republic  Prague   19            37.5\n",
      "2119  Europe  Czech Republic  Prague   20            37.0\n",
      "2120  Europe  Czech Republic  Prague   21            41.3\n",
      "2121  Europe  Czech Republic  Prague   22            44.6\n",
      "2122  Europe  Czech Republic  Prague   23            41.8\n",
      "2123  Europe  Czech Republic  Prague   24            46.2\n",
      "2124  Europe  Czech Republic  Prague   25            43.3\n",
      "2125  Europe  Czech Republic  Prague   26            34.6\n",
      "2126  Europe  Czech Republic  Prague   27            36.1\n",
      "2127  Europe  Czech Republic  Prague   28            39.3\n",
      "2128  Europe  Czech Republic  Prague   29            36.9\n",
      "2129  Europe  Czech Republic  Prague   30            33.7\n"
     ]
    }
   ],
   "source": [
    "# Dotaz na měření, která byla provedena v Praze.\n",
    "\n",
    "temperature_in_Prague = temperature[(temperature[\"City\"] == \"Prague\")]\n",
    "print(temperature_in_Prague)"
   ]
  },
  {
   "cell_type": "code",
   "execution_count": 3,
   "metadata": {},
   "outputs": [
    {
     "name": "stdout",
     "output_type": "stream",
     "text": [
      "             Region Country             City  Day  AvgTemperature\n",
      "30           Africa   Benin          Cotonou    1            81.7\n",
      "31           Africa   Benin          Cotonou    2            81.8\n",
      "32           Africa   Benin          Cotonou    3            83.6\n",
      "33           Africa   Benin          Cotonou    4            83.4\n",
      "34           Africa   Benin          Cotonou    5            80.3\n",
      "...             ...     ...              ...  ...             ...\n",
      "8011  North America      US      Brownsville    2            80.8\n",
      "8012  North America      US      Brownsville    3            81.1\n",
      "8015  North America      US      Brownsville    6            80.5\n",
      "8042  North America      US   Corpus Christi    3            80.2\n",
      "8074  North America      US  Dallas Ft Worth    5            80.1\n",
      "\n",
      "[722 rows x 5 columns]\n"
     ]
    }
   ],
   "source": [
    "# Dotaz na měření, ve kterých je teplota vyšší než 80 stupňů.\n",
    "\n",
    "temp_higher_than_eighty_deg = temperature[temperature[\"AvgTemperature\"] > 80]\n",
    "print(temp_higher_than_eighty_deg)"
   ]
  },
  {
   "cell_type": "code",
   "execution_count": 4,
   "metadata": {},
   "outputs": [
    {
     "name": "stdout",
     "output_type": "stream",
     "text": [
      "      Region   Country       City  Day  AvgTemperature\n",
      "1932  Europe   Albania     Tirana   13            60.3\n",
      "2402  Europe     Italy       Rome    3            62.2\n",
      "2404  Europe     Italy       Rome    5            60.4\n",
      "2580  Europe  Portugal     Lisbon    1            62.5\n",
      "2581  Europe  Portugal     Lisbon    2            63.2\n",
      "2582  Europe  Portugal     Lisbon    3            61.1\n",
      "2583  Europe  Portugal     Lisbon    4            61.6\n",
      "2602  Europe  Portugal     Lisbon   23            64.2\n",
      "2603  Europe  Portugal     Lisbon   24            62.6\n",
      "2701  Europe     Spain  Barcelona    2            63.8\n",
      "2702  Europe     Spain  Barcelona    3            63.1\n",
      "2703  Europe     Spain  Barcelona    4            63.5\n",
      "2704  Europe     Spain  Barcelona    5            61.6\n",
      "2730  Europe     Spain     Bilbao    1            62.9\n",
      "2731  Europe     Spain     Bilbao    2            66.3\n",
      "2732  Europe     Spain     Bilbao    3            63.8\n",
      "2751  Europe     Spain     Bilbao   22            62.7\n",
      "2752  Europe     Spain     Bilbao   23            69.5\n",
      "2753  Europe     Spain     Bilbao   24            62.5\n"
     ]
    }
   ],
   "source": [
    "# Dotaz na měření, ve kterých je teplota vyšší než 60 stupňů a současně bylo měření provedeno v regionu (sloupec Region) Evropa (Europe).\n",
    "\n",
    "temp_higher_than_sixty_deg_in_Europe = temperature[(temperature[\"AvgTemperature\"] > 60) & (temperature[\"Region\"] == \"Europe\")]\n",
    "print(temp_higher_than_sixty_deg_in_Europe)"
   ]
  },
  {
   "cell_type": "code",
   "execution_count": 5,
   "metadata": {},
   "outputs": [
    {
     "name": "stdout",
     "output_type": "stream",
     "text": [
      "             Region Country             City  Day  AvgTemperature\n",
      "30           Africa   Benin          Cotonou    1            81.7\n",
      "31           Africa   Benin          Cotonou    2            81.8\n",
      "32           Africa   Benin          Cotonou    3            83.6\n",
      "33           Africa   Benin          Cotonou    4            83.4\n",
      "34           Africa   Benin          Cotonou    5            80.3\n",
      "...             ...     ...              ...  ...             ...\n",
      "8011  North America      US      Brownsville    2            80.8\n",
      "8012  North America      US      Brownsville    3            81.1\n",
      "8015  North America      US      Brownsville    6            80.5\n",
      "8042  North America      US   Corpus Christi    3            80.2\n",
      "8074  North America      US  Dallas Ft Worth    5            80.1\n",
      "\n",
      "[772 rows x 5 columns]\n"
     ]
    }
   ],
   "source": [
    "# Dotaz na extrémní hodnoty, tj. měření, ve kterých je teplota vyšší než 80 stupňů nebo menší než -20 stupňů. \n",
    "\n",
    "temp_higher_than_80_and_lower_than_minus_twenty = temperature[(temperature[\"AvgTemperature\"] > 80 ) | (temperature[\"AvgTemperature\"] < -20)]\n",
    "print(temp_higher_than_80_and_lower_than_minus_twenty)"
   ]
  }
 ],
 "metadata": {
  "kernelspec": {
   "display_name": "Python 3",
   "language": "python",
   "name": "python3"
  },
  "language_info": {
   "codemirror_mode": {
    "name": "ipython",
    "version": 3
   },
   "file_extension": ".py",
   "mimetype": "text/x-python",
   "name": "python",
   "nbconvert_exporter": "python",
   "pygments_lexer": "ipython3",
   "version": "3.11.4"
  }
 },
 "nbformat": 4,
 "nbformat_minor": 2
}
